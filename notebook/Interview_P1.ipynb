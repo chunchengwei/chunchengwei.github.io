{
 "cells": [
  {
   "cell_type": "code",
   "execution_count": 1,
   "metadata": {},
   "outputs": [
    {
     "name": "stdout",
     "output_type": "stream",
     "text": [
      "[2, 3, 5, 7, 11, 13, 17, 19, 23, 29, 31, 37, 41, 43, 47]\n"
     ]
    }
   ],
   "source": [
    "import math\n",
    "\n",
    "MAX_PN = 1000\n",
    "\n",
    "# creat Prime Number list\n",
    "def PNlist(PNmax):\n",
    "    pnl = [2, 3]\n",
    "    for i in range(5, PNmax + 2, 2):\n",
    "        sqrt_i = math.sqrt(i)\n",
    "        \n",
    "        # check if i is a Prime Number\n",
    "        is_pn = True\n",
    "        for pn in pnl:\n",
    "            if pn > sqrt_i: break\n",
    "            if i % pn == 0: is_pn = False; break        \n",
    "        if is_pn:\n",
    "            pnl.append(i)\n",
    "    \n",
    "    return pnl\n",
    "\n",
    "print (PNlist(50))"
   ]
  },
  {
   "cell_type": "code",
   "execution_count": 2,
   "metadata": {},
   "outputs": [
    {
     "name": "stdout",
     "output_type": "stream",
     "text": [
      "L = 2 x 2 x 2 x 3 x 7\n"
     ]
    },
    {
     "data": {
      "text/plain": [
       "11"
      ]
     },
     "execution_count": 2,
     "metadata": {},
     "output_type": "execute_result"
    }
   ],
   "source": [
    "# creat Prime Number list\n",
    "PN = PNlist(MAX_PN)\n",
    "\n",
    "#  prime factorisation and return the minimal operations\n",
    "def  min_op(L):\n",
    "    n = 0;\n",
    "    i = 0;\n",
    "    pfl = []\n",
    "    while L != 1:\n",
    "        if L % PN[i] == 0:\n",
    "            L /= PN[i]\n",
    "            n += PN[i] - 1\n",
    "            pfl.append(str(PN[i]))\n",
    "        else:\n",
    "            i += 1\n",
    "    \n",
    "    # print the prime factorisation of L\n",
    "    print ('L =', ' x '.join(pfl))\n",
    "    return n\n",
    "\n",
    "min_op(168)"
   ]
  }
 ],
 "metadata": {
  "kernelspec": {
   "display_name": "Python 3",
   "language": "python",
   "name": "python3"
  },
  "language_info": {
   "codemirror_mode": {
    "name": "ipython",
    "version": 3
   },
   "file_extension": ".py",
   "mimetype": "text/x-python",
   "name": "python",
   "nbconvert_exporter": "python",
   "pygments_lexer": "ipython3",
   "version": "3.6.3"
  }
 },
 "nbformat": 4,
 "nbformat_minor": 2
}
